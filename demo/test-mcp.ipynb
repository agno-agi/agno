{
 "cells": [
  {
   "cell_type": "code",
   "execution_count": 1,
   "id": "17f86d74",
   "metadata": {},
   "outputs": [],
   "source": [
    "import asyncio\n",
    "from pathlib import Path\n",
    "from textwrap import dedent\n",
    "\n",
    "from agno.agent import Agent\n",
    "from agno.models.openai import OpenAIChat\n",
    "from agno.tools.mcp import MCPTools\n",
    "from mcp import StdioServerParameters"
   ]
  },
  {
   "cell_type": "code",
   "execution_count": 2,
   "id": "a6380953",
   "metadata": {},
   "outputs": [],
   "source": [
    "async def run_agent(message: str) -> None:\n",
    "    \"\"\"Run the filesystem agent with the given message.\"\"\"\n",
    "\n",
    "    # MCP server to access the filesystem (via `npx`)\n",
    "    async with MCPTools(\"http://0.0.0.0:7071/runtime/webhooks/mcp/sse\", transport=\"sse\") as mcp_tools:\n",
    "        agent = Agent(\n",
    "            model=OpenAIChat(id=\"gpt-4o\"),\n",
    "            tools=[mcp_tools],\n",
    "            instructions=dedent(\"\"\"\\\n",
    "            You are a financial analysis agent.\n",
    "\n",
    "            Analyze a company's income statement, balance sheet, cash flow, and earnings.\n",
    "            Generate a concise report summarizing the company's financial overview.\n",
    "            \"\"\"),\n",
    "            markdown=True,\n",
    "            show_tool_calls=True,\n",
    "        )\n",
    "\n",
    "        # Run the agent\n",
    "        await agent.aprint_response(message, stream=True)"
   ]
  },
  {
   "cell_type": "code",
   "execution_count": 3,
   "id": "bd2ac223",
   "metadata": {},
   "outputs": [
    {
     "data": {
      "text/html": [
       "<pre style=\"white-space:pre;overflow-x:auto;line-height:normal;font-family:Menlo,'DejaVu Sans Mono',consolas,'Courier New',monospace\">/Users/dsaad/GitHub/fork/agno/.venv/lib/python3.12/site-packages/rich/live.py:231: UserWarning: install \n",
       "\"ipywidgets\" for Jupyter support\n",
       "  warnings.warn('install \"ipywidgets\" for Jupyter support')\n",
       "</pre>\n"
      ],
      "text/plain": [
       "/Users/dsaad/GitHub/fork/agno/.venv/lib/python3.12/site-packages/rich/live.py:231: UserWarning: install \n",
       "\"ipywidgets\" for Jupyter support\n",
       "  warnings.warn('install \"ipywidgets\" for Jupyter support')\n"
      ]
     },
     "metadata": {},
     "output_type": "display_data"
    },
    {
     "data": {
      "text/html": [
       "<pre style=\"white-space:pre;overflow-x:auto;line-height:normal;font-family:Menlo,'DejaVu Sans Mono',consolas,'Courier New',monospace\"></pre>\n"
      ],
      "text/plain": []
     },
     "metadata": {},
     "output_type": "display_data"
    }
   ],
   "source": [
    "await run_agent(\"Create a financial overview of the following company just with cash flow and balance sheet: IBM.\")"
   ]
  },
  {
   "cell_type": "code",
   "execution_count": null,
   "id": "d60dbcb5",
   "metadata": {},
   "outputs": [],
   "source": []
  }
 ],
 "metadata": {
  "kernelspec": {
   "display_name": ".venv",
   "language": "python",
   "name": "python3"
  },
  "language_info": {
   "codemirror_mode": {
    "name": "ipython",
    "version": 3
   },
   "file_extension": ".py",
   "mimetype": "text/x-python",
   "name": "python",
   "nbconvert_exporter": "python",
   "pygments_lexer": "ipython3",
   "version": "3.12.7"
  }
 },
 "nbformat": 4,
 "nbformat_minor": 5
}
